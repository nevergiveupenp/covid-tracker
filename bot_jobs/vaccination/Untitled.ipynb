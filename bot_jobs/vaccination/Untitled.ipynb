{
 "cells": [
  {
   "cell_type": "code",
   "execution_count": 1,
   "id": "9c832227",
   "metadata": {},
   "outputs": [],
   "source": [
    "import requests\n",
    "from bs4 import BeautifulSoup\n",
    "import pandas as pd\n",
    "import re\n",
    "import time\n",
    "import json"
   ]
  },
  {
   "cell_type": "code",
   "execution_count": 11,
   "id": "40af00f1",
   "metadata": {},
   "outputs": [
    {
     "name": "stdout",
     "output_type": "stream",
     "text": [
      "<Response [401]>\n"
     ]
    }
   ],
   "source": [
    "endpoint = \"https://wabi-south-east-asia-b-primary-api.analysis.windows.net/public/reports/querydata?synchronous=true\"\n",
    "query = { \"version\": \"1.0.0\", \"queries\": [{ \"Query\": { \"Commands\": [{ \"SemanticQueryDataShapeCommand\": { \"Query\": { \"Version\": 2, \"From\": [{ \"Name\": \"d\", \"Entity\": \"dim_person_type\", \"Type\": 0 }, { \"Name\": \"_\", \"Entity\": \"_Measure_real\", \"Type\": 0 }, { \"Name\": \"d1\", \"Entity\": \"dim_filter_date\", \"Type\": 0 }, { \"Name\": \"d2\", \"Entity\": \"dim_button\", \"Type\": 0 }, { \"Name\": \"d3\", \"Entity\": \"dim_region\", \"Type\": 0 }], \"Select\": [{ \"Column\": { \"Expression\": { \"SourceRef\": { \"Source\": \"d\" } }, \"Property\": \"person_type_new\" }, \"Name\": \"dim_person_type.person_type_new\" }, { \"Measure\": { \"Expression\": { \"SourceRef\": { \"Source\": \"_\" } }, \"Property\": \"totalVaccineDose\" }, \"Name\": \"_Measure_real.totalVaccineDose\" }], \"Where\": [{ \"Condition\": { \"Not\": { \"Expression\": { \"In\": { \"Expressions\": [{ \"Column\": { \"Expression\": { \"SourceRef\": { \"Source\": \"d\" } }, \"Property\": \"person_type_new\" } }], \"Values\": [[{ \"Literal\": { \"Value\": \"null\" } }]] } } } } }, { \"Condition\": { \"In\": { \"Expressions\": [{ \"Column\": { \"Expression\": { \"SourceRef\": { \"Source\": \"d1\" } }, \"Property\": \"date_detail_th\" } }], \"Values\": [[{ \"Literal\": { \"Value\": \"'ทั้งหมด'\" } }]] } } }, { \"Condition\": { \"In\": { \"Expressions\": [{ \"Column\": { \"Expression\": { \"SourceRef\": { \"Source\": \"d2\" } }, \"Property\": \"detail\" } }], \"Values\": [[{ \"Literal\": { \"Value\": \"'เข็มสาม'\" } }]] } } }, { \"Condition\": { \"In\": { \"Expressions\": [{ \"Column\": { \"Expression\": { \"SourceRef\": { \"Source\": \"d3\" } }, \"Property\": \"province_name_th\" } }], \"Values\": [[{ \"Literal\": { \"Value\": \"'Bangkok'\" } }]] } } }, { \"Condition\": { \"Not\": { \"Expression\": { \"In\": { \"Expressions\": [{ \"Column\": { \"Expression\": { \"SourceRef\": { \"Source\": \"d3\" } }, \"Property\": \"province_name_en\" } }], \"Values\": [[{ \"Literal\": { \"Value\": \"null\" } }]] } } } } }], \"OrderBy\": [{ \"Direction\": 2, \"Expression\": { \"Measure\": { \"Expression\": { \"SourceRef\": { \"Source\": \"_\" } }, \"Property\": \"totalVaccineDose\" } } }] }, \"Binding\": { \"Primary\": { \"Groupings\": [{ \"Projections\": [0, 1] }] }, \"DataReduction\": { \"DataVolume\": 4, \"Primary\": { \"Window\": { \"Count\": 1000 } } }, \"Version\": 1 }, \"ExecutionMetricsKind\": 1 } }] }, \"QueryId\": \"\", \"ApplicationContext\": { \"DatasetId\": \"d7159ff1-4b52-450a-a735-ce8d09f08cfb\", \"Sources\": [{ \"ReportId\": \"eb6c8df6-49d1-420c-9a92-a9c3bfd72f9c\", \"VisualId\": \"a0d4847ae75b99b8d7b3\" }] } }], \"cancelQueries\": [], \"modelId\": 293549 }\n",
    "res = requests.post(endpoint, json = json.dumps(query))\n",
    "print(res)"
   ]
  }
 ],
 "metadata": {
  "kernelspec": {
   "display_name": "Python 3.9.4 64-bit ('env': conda)",
   "language": "python",
   "name": "python394jvsc74a57bd0dfbcff2f647d45a42edc65ecea58cb5929d398f8e62743f7275015ea1ced257b"
  },
  "language_info": {
   "codemirror_mode": {
    "name": "ipython",
    "version": 3
   },
   "file_extension": ".py",
   "mimetype": "text/x-python",
   "name": "python",
   "nbconvert_exporter": "python",
   "pygments_lexer": "ipython3",
   "version": "3.9.4"
  }
 },
 "nbformat": 4,
 "nbformat_minor": 5
}
